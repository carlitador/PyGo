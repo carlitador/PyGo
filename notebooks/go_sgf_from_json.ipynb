{
 "cells": [
  {
   "cell_type": "code",
   "execution_count": 2,
   "id": "38e20694",
   "metadata": {},
   "outputs": [
    {
     "name": "stdout",
     "output_type": "stream",
     "text": [
      "dict_keys(['related', 'players', 'id', 'name', 'creator', 'mode', 'source', 'black', 'white', 'width', 'height', 'rules', 'ranked', 'handicap', 'komi', 'time_control', 'black_player_rank', 'black_player_rating', 'white_player_rank', 'white_player_rating', 'time_per_move', 'time_control_parameters', 'disable_analysis', 'tournament', 'tournament_round', 'ladder', 'pause_on_weekends', 'outcome', 'black_lost', 'white_lost', 'annulled', 'started', 'ended', 'historical_ratings', 'gamedata', 'auth', 'game_chat_auth'])\n"
     ]
    }
   ],
   "source": [
    "import pyperclip, json\n",
    "    \n",
    "s = pyperclip.paste()\n",
    "d = json.loads(s)\n",
    "print(d.keys())"
   ]
  },
  {
   "cell_type": "code",
   "execution_count": 3,
   "id": "0ba69c99",
   "metadata": {},
   "outputs": [
    {
     "name": "stdout",
     "output_type": "stream",
     "text": [
      "['a', 'b', 'c', 'd', 'e', 'f', 'g', 'h', 'i', 'j', 'k', 'l', 'm', 'n', 'o', 'p', 'q', 'r', 's', 't', 'u', 'v', 'w', 'x', 'y', 'z']\n"
     ]
    }
   ],
   "source": [
    "import string\n",
    "rc = list(string.ascii_lowercase)\n",
    "print(rc)"
   ]
  },
  {
   "cell_type": "code",
   "execution_count": 4,
   "id": "4a7663c5",
   "metadata": {},
   "outputs": [
    {
     "name": "stdout",
     "output_type": "stream",
     "text": [
      ";B[dp]\n",
      ";W[pd]\n",
      ";B[qp]\n",
      ";W[dd]\n",
      ";B[oq]\n",
      ";W[rp]\n",
      ";B[rq]\n",
      ";W[pp]\n",
      ";B[pq]\n",
      ";W[qo]\n",
      ";B[qq]\n",
      ";W[ql]\n",
      ";B[qn]\n",
      ";W[qi]\n",
      ";B[fc]\n",
      ";W[hc]\n",
      ";B[fe]\n",
      ";W[df]\n",
      ";B[id]\n",
      ";W[ic]\n",
      ";B[jd]\n",
      ";W[hd]\n",
      ";B[he]\n",
      ";W[jc]\n",
      ";B[kd]\n",
      ";W[lc]\n",
      ";B[me]\n",
      ";W[cn]\n",
      ";B[fq]\n",
      ";W[dk]\n",
      ";B[nc]\n",
      ";W[mc]\n",
      ";B[nd]\n",
      ";W[pf]\n",
      ";B[pb]\n",
      ";W[gd]\n",
      ";B[fd]\n",
      ";W[ge]\n",
      ";B[gf]\n",
      ";W[hf]\n",
      ";B[ie]\n",
      ";W[ff]\n",
      ";B[gg]\n",
      ";W[ee]\n",
      ";B[db]\n",
      ";W[cc]\n",
      ";B[cb]\n",
      ";W[bb]\n",
      ";B[dc]\n",
      ";W[cd]\n",
      ";B[gb]\n",
      ";W[hb]\n",
      ";B[kc]\n",
      ";W[kb]\n",
      ";B[eb]\n",
      ";W[fa]\n",
      ";B[ga]\n",
      ";W[ed]\n",
      ";B[gc]\n",
      ";W[jb]\n",
      ";B[mb]\n",
      ";W[lb]\n",
      ";B[nb]\n",
      ";W[ia]\n",
      ";B[ci]\n",
      ";W[qc]\n",
      ";B[cm]\n",
      ";W[cl]\n",
      ";B[bm]\n",
      ";W[dm]\n",
      ";B[bn]\n",
      ";W[co]\n",
      ";B[bo]\n",
      ";W[cp]\n",
      ";B[bl]\n",
      ";W[bk]\n",
      ";B[cj]\n",
      ";W[ck]\n",
      ";B[dn]\n",
      ";W[bp]\n",
      ";B[do]\n",
      ";W[cr]\n"
     ]
    }
   ],
   "source": [
    "\n",
    "for i,m in enumerate(d['gamedata']['moves']):\n",
    "    player = \"B\"\n",
    "    if i % 2 != 0:\n",
    "        player = \"W\"\n",
    "    print(f\";{player}[{rc[m[0]]}{rc[m[1]]}]\")    "
   ]
  }
 ],
 "metadata": {
  "kernelspec": {
   "display_name": "Python 3",
   "language": "python",
   "name": "python3"
  },
  "language_info": {
   "codemirror_mode": {
    "name": "ipython",
    "version": 3
   },
   "file_extension": ".py",
   "mimetype": "text/x-python",
   "name": "python",
   "nbconvert_exporter": "python",
   "pygments_lexer": "ipython3",
   "version": "3.8.5"
  }
 },
 "nbformat": 4,
 "nbformat_minor": 5
}
